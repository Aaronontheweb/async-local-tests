{
 "cells": [
  {
   "cell_type": "markdown",
   "metadata": {},
   "source": [
    "# `AsyncLocal<T>` and the TPL\n",
    "This project demonstrates how the behavior of [`AsyncLocal<T>`](https://docs.microsoft.com/en-us/dotnet/api/system.threading.asynclocal-1) can vary depending upon how tasks are created."
   ]
  },
  {
   "cell_type": "code",
   "execution_count": null,
   "metadata": {
    "dotnet_interactive": {
     "language": "csharp"
    }
   },
   "outputs": [
    {
     "name": "stdout",
     "output_type": "stream",
     "text": [
      "Before: Previous: 1, Current: 1\r\n",
      "After: Previous: 1, Current: 2\r\n",
      "Before: Previous: 2, Current: 2\r\n",
      "After: Previous: 2, Current: 3\r\n",
      "Before: Previous: 3, Current: 3\r\n",
      "After: Previous: 3, Current: 4\r\n",
      "Before: Previous: 4, Current: 4\r\n",
      "After: Previous: 4, Current: 5\r\n",
      "Before: Previous: 5, Current: 5\r\n",
      "After: Previous: 5, Current: 6\r\n",
      "Before: Previous: 6, Current: 6\r\n",
      "After: Previous: 6, Current: 7\r\n",
      "Before: Previous: 7, Current: 7\r\n",
      "After: Previous: 7, Current: 8\r\n",
      "Before: Previous: 8, Current: 8\r\n",
      "After: Previous: 8, Current: 9\r\n",
      "Before: Previous: 9, Current: 9\r\n",
      "After: Previous: 9, Current: 10\r\n",
      "Final: 1\r\n"
     ]
    }
   ],
   "source": [
    "using System.Threading;\n",
    "using System.Threading.Tasks;\n",
    "\n",
    "static AsyncLocal<int> myLocal = new AsyncLocal<int>();\n",
    "myLocal.Value = 1;\n",
    "\n",
    "static async Task Increment(int count){   \n",
    "    int prevValue = myLocal.Value;\n",
    "    Console.WriteLine(\"Before: Previous: {0}, Current: {1}\", prevValue, myLocal.Value);\n",
    "    await Task.Delay(1);\n",
    "    myLocal.Value = prevValue + 1;\n",
    "    Console.WriteLine(\"After: Previous: {0}, Current: {1}\", prevValue, myLocal.Value);\n",
    "\n",
    "    if(myLocal.Value < count)\n",
    "        await Increment(count);\n",
    "}\n",
    "\n",
    "// call 10 recursive awaits\n",
    "await Increment(10);\n",
    "\n",
    "// final\n",
    "Console.WriteLine(\"Final: {0}\", myLocal.Value);"
   ]
  },
  {
   "cell_type": "markdown",
   "metadata": {},
   "source": [
    "In the above instance, the `AsyncLocal<T>` value is recursively preserved all the way down the `await` chain until it reaches a value of 10. However, notice that the final value of the `AsyncLocal<T>` is `1`. Let's explore that."
   ]
  },
  {
   "cell_type": "code",
   "execution_count": null,
   "metadata": {
    "dotnet_interactive": {
     "language": "csharp"
    }
   },
   "outputs": [
    {
     "name": "stdout",
     "output_type": "stream",
     "text": [
      "Before: Previous: 1, Current: 1\r\n",
      "After: Previous: 1, Current: 2\r\n",
      "Before: Previous: 1, Current: 1\r\n",
      "After: Previous: 1, Current: 2\r\n",
      "Before: Previous: 1, Current: 1\r\n",
      "After: Previous: 1, Current: 2\r\n",
      "Before: Previous: 1, Current: 1\r\n",
      "After: Previous: 1, Current: 2\r\n",
      "Before: Previous: 1, Current: 1\r\n",
      "After: Previous: 1, Current: 2\r\n",
      "Before: Previous: 1, Current: 1\r\n",
      "After: Previous: 1, Current: 2\r\n",
      "Before: Previous: 1, Current: 1\r\n",
      "After: Previous: 1, Current: 2\r\n",
      "Before: Previous: 1, Current: 1\r\n",
      "After: Previous: 1, Current: 2\r\n",
      "Before: Previous: 1, Current: 1\r\n",
      "After: Previous: 1, Current: 2\r\n",
      "Before: Previous: 1, Current: 1\r\n",
      "After: Previous: 1, Current: 2\r\n"
     ]
    }
   ],
   "source": [
    "static AsyncLocal<int> myLocal2 = new AsyncLocal<int>();\n",
    "myLocal2.Value = 1;\n",
    "\n",
    "static async Task Increment2(){   \n",
    "    int prevValue = myLocal2.Value;\n",
    "    Console.WriteLine(\"Before: Previous: {0}, Current: {1}\", prevValue, myLocal2.Value);\n",
    "    await Task.Delay(1);\n",
    "    myLocal2.Value = prevValue + 1;\n",
    "    Console.WriteLine(\"After: Previous: {0}, Current: {1}\", prevValue, myLocal2.Value);\n",
    "}\n",
    "\n",
    "// call 10 awaits that all return to the main caller thread\n",
    "foreach(var i in Enumerable.Range(0, 10))\n",
    "    await Increment2();"
   ]
  },
  {
   "cell_type": "markdown",
   "metadata": {},
   "source": [
    "In the second example, where the `await` calls all return to the context of the original caller, the `AsyncLocal<T>` returns back to its original value each time. `AsyncLocal<T>` will preserve the value that began at the start of this context and will propgate changes down the `await` FSM, but those side effects aren't propagated back to the original caller. `AsyncLocal<T>` value changes can be carried down the `await` FSM but they're not returned to the original caller - that's what `Task<TValue>` return values are for.\n",
    "\n",
    "## `AsyncLocal<T>` and `ContinueWith<T>`\n",
    "So how does `AsyncLocal<T>` work with continuation tasks?"
   ]
  },
  {
   "cell_type": "code",
   "execution_count": null,
   "metadata": {
    "dotnet_interactive": {
     "language": "csharp"
    }
   },
   "outputs": [
    {
     "name": "stdout",
     "output_type": "stream",
     "text": [
      "Before: Previous: 1, Current: 1\r\n",
      "After: Previous: 1, Current: 2\r\n",
      "Before: Previous: 1, Current: 1\r\n",
      "After: Previous: 1, Current: 2\r\n"
     ]
    }
   ],
   "source": [
    "static AsyncLocal<int> myLocal3 = new AsyncLocal<int>();\n",
    "myLocal3.Value = 1;\n",
    "\n",
    "static void LogAndIncrement(){\n",
    "    int prevValue = myLocal3.Value;\n",
    "    Console.WriteLine(\"Before: Previous: {0}, Current: {1}\", prevValue, myLocal3.Value);\n",
    "    myLocal3.Value = prevValue + 1;\n",
    "    Console.WriteLine(\"After: Previous: {0}, Current: {1}\", prevValue, myLocal3.Value);\n",
    "}\n",
    "\n",
    "Task t1 = Task.Run(() => {\n",
    "    LogAndIncrement();\n",
    "});\n",
    "\n",
    "Task t2 = t1.ContinueWith(tr => {\n",
    "    LogAndIncrement();\n",
    "});\n",
    "\n",
    "await t2;"
   ]
  },
  {
   "cell_type": "markdown",
   "metadata": {},
   "source": [
    "Again, a similar result to when we ran `await` in a `foreach` loop - values that are modified outside of the `await` FSM aren't propagated back to the caller. `AsyncLocal<T>` works in one direction: down the FSM."
   ]
  },
  {
   "cell_type": "code",
   "execution_count": null,
   "metadata": {
    "dotnet_interactive": {
     "language": "csharp"
    }
   },
   "outputs": [
    {
     "name": "stdout",
     "output_type": "stream",
     "text": [
      "Before: Previous: 1, Current: 1\r\n",
      "After: Previous: 1, Current: 2\r\n",
      "Before: Previous: 1, Current: 1\r\n",
      "After: Previous: 1, Current: 2\r\n"
     ]
    }
   ],
   "source": [
    "static AsyncLocal<int> myLocal4 = new AsyncLocal<int>();\n",
    "myLocal4.Value = 1;\n",
    "\n",
    "static async Task LogAndIncrement2(){\n",
    "    int prevValue = myLocal4.Value;\n",
    "    Console.WriteLine(\"Before: Previous: {0}, Current: {1}\", prevValue, myLocal4.Value);\n",
    "    await Task.Delay(1);\n",
    "    myLocal4.Value = prevValue + 1;\n",
    "    Console.WriteLine(\"After: Previous: {0}, Current: {1}\", prevValue, myLocal4.Value);\n",
    "}\n",
    "\n",
    "\n",
    "Task t3 = Task.Run(async () => {\n",
    "    await LogAndIncrement2();\n",
    "    await LogAndIncrement2();\n",
    "});\n",
    "\n",
    "await t3;"
   ]
  },
  {
   "cell_type": "markdown",
   "metadata": {},
   "source": [
    "Again, the `await`s that occur inside the `Task` are part of separate FSMs, thus we always return back to the original value we began with at the start of this `async` context."
   ]
  },
  {
   "cell_type": "code",
   "execution_count": null,
   "metadata": {
    "dotnet_interactive": {
     "language": "csharp"
    }
   },
   "outputs": [
    {
     "name": "stdout",
     "output_type": "stream",
     "text": [
      "Before: Previous: 1, Current: 1\r\n",
      "After: Previous: 1, Current: 2\r\n",
      "Before: Previous: 2, Current: 2\r\n",
      "After: Previous: 2, Current: 3\r\n",
      "Before: Previous: 3, Current: 3\r\n",
      "After: Previous: 3, Current: 4\r\n",
      "Before: Previous: 4, Current: 4\r\n",
      "After: Previous: 4, Current: 5\r\n",
      "Before: Previous: 5, Current: 5\r\n",
      "After: Previous: 5, Current: 6\r\n",
      "Before: Previous: 6, Current: 6\r\n",
      "After: Previous: 6, Current: 7\r\n",
      "Before: Previous: 7, Current: 7\r\n",
      "After: Previous: 7, Current: 8\r\n",
      "Before: Previous: 8, Current: 8\r\n",
      "After: Previous: 8, Current: 9\r\n",
      "Before: Previous: 9, Current: 9\r\n",
      "After: Previous: 9, Current: 10\r\n",
      "Before: Previous: 10, Current: 10\r\n",
      "After: Previous: 10, Current: 11\r\n"
     ]
    }
   ],
   "source": [
    "static AsyncLocal<int> myLocal5 = new AsyncLocal<int>();\n",
    "myLocal5.Value = 1;\n",
    "\n",
    "Task t4 = Task.Run(async () => {\n",
    "    foreach(var i in Enumerable.Range(0, 10)){\n",
    "        int prevValue = myLocal5.Value;\n",
    "        Console.WriteLine(\"Before: Previous: {0}, Current: {1}\", prevValue, myLocal5.Value);\n",
    "        await Task.Delay(1);\n",
    "        prevValue = myLocal5.Value;\n",
    "        myLocal5.Value = prevValue + 1;\n",
    "        Console.WriteLine(\"After: Previous: {0}, Current: {1}\", prevValue, myLocal5.Value);\n",
    "    }\n",
    "});\n",
    "\n",
    "await t4;"
   ]
  },
  {
   "cell_type": "markdown",
   "metadata": {},
   "source": [
    "This is probably much closer to what users expect from `AsyncLocal<T>` - within the context of a single `async` method running inside a `Task` we have 10 discrete `await` calls, each of which creates its own stage in the `await` FSM and properly increments the value stored inside `myLocal5`.\n",
    "\n",
    "But what happens when we tack on a `ContinueWith` here?"
   ]
  },
  {
   "cell_type": "code",
   "execution_count": null,
   "metadata": {
    "dotnet_interactive": {
     "language": "csharp"
    }
   },
   "outputs": [
    {
     "name": "stdout",
     "output_type": "stream",
     "text": [
      "Before: Previous: 1, Current: 1\r\n",
      "After: Previous: 1, Current: 2\r\n",
      "Before: Previous: 2, Current: 2\r\n",
      "After: Previous: 2, Current: 3\r\n",
      "Before: Previous: 3, Current: 3\r\n",
      "After: Previous: 3, Current: 4\r\n",
      "Before: Previous: 4, Current: 4\r\n",
      "After: Previous: 4, Current: 5\r\n",
      "Before: Previous: 5, Current: 5\r\n",
      "After: Previous: 5, Current: 6\r\n",
      "Before: Previous: 6, Current: 6\r\n",
      "After: Previous: 6, Current: 7\r\n",
      "Before: Previous: 7, Current: 7\r\n",
      "After: Previous: 7, Current: 8\r\n",
      "Before: Previous: 8, Current: 8\r\n",
      "After: Previous: 8, Current: 9\r\n",
      "Before: Previous: 9, Current: 9\r\n",
      "After: Previous: 9, Current: 10\r\n",
      "Before: Previous: 10, Current: 10\r\n",
      "After: Previous: 10, Current: 11\r\n",
      "Final Previous: 1, Current: 1\r\n"
     ]
    }
   ],
   "source": [
    "static AsyncLocal<int> myLocal6 = new AsyncLocal<int>();\n",
    "myLocal6.Value = 1;\n",
    "\n",
    "// force the foreground thread to wait until continuation has executed\n",
    "ManualResetEvent m = new ManualResetEvent(false);\n",
    "\n",
    "Task t5 = Task.Run(async () => {\n",
    "    foreach(var i in Enumerable.Range(0, 10)){\n",
    "        int prevValue = myLocal6.Value;\n",
    "        Console.WriteLine(\"Before: Previous: {0}, Current: {1}\", prevValue, myLocal6.Value);\n",
    "        await Task.Delay(1);\n",
    "        prevValue = myLocal6.Value;\n",
    "        myLocal6.Value = prevValue + 1;\n",
    "        Console.WriteLine(\"After: Previous: {0}, Current: {1}\", prevValue, myLocal6.Value);\n",
    "    }\n",
    "}).ContinueWith(async tr => {\n",
    "    await Task.Delay(1);\n",
    "    int prev2 = myLocal6.Value;\n",
    "    Console.WriteLine(\"Final Previous: {0}, Current: {1}\", prev2, myLocal6.Value);\n",
    "    m.Set(); \n",
    "});\n",
    "\n",
    "await t5;\n",
    "m.WaitOne();"
   ]
  },
  {
   "cell_type": "markdown",
   "metadata": {},
   "source": [
    "As you can see, the final value for `myLocal6` reverts back to 1 - as the `async` flow / the `await` FSM are separate, unrelated instances between the parent `Task` and the continuation `Task`, even though users very likely view them as one and the same."
   ]
  }
 ],
 "metadata": {
  "kernelspec": {
   "display_name": ".NET (C#)",
   "language": "C#",
   "name": ".net-csharp"
  },
  "language_info": {
   "name": "C#"
  }
 },
 "nbformat": 4,
 "nbformat_minor": 2
}
